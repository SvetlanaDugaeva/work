{
 "cells": [
  {
   "cell_type": "code",
   "execution_count": 3,
   "id": "another-drove",
   "metadata": {},
   "outputs": [],
   "source": [
    "import numpy as np\n",
    "import matplotlib.pyplot as plt\n",
    "from scipy.integrate import odeint\n",
    "import math"
   ]
  },
  {
   "cell_type": "code",
   "execution_count": 4,
   "id": "derived-edition",
   "metadata": {},
   "outputs": [],
   "source": [
    "t0 = 0\n",
    "tmax = 10\n",
    "x0 = 19\n",
    "N = 1120\n",
    "t = np.arange(t0, tmax, 0.01)"
   ]
  },
  {
   "cell_type": "code",
   "execution_count": 5,
   "id": "pressing-integer",
   "metadata": {},
   "outputs": [],
   "source": [
    "def k(t):\n",
    "    k = 0.93\n",
    "    return k\n",
    "def p(t):\n",
    "    p = 0.00003\n",
    "    return p"
   ]
  },
  {
   "cell_type": "code",
   "execution_count": 6,
   "id": "seeing-grave",
   "metadata": {},
   "outputs": [],
   "source": [
    "def f(x, t):\n",
    "    f = (k(t) + p(t)*x)*(N-x)\n",
    "    return f"
   ]
  },
  {
   "cell_type": "code",
   "execution_count": 7,
   "id": "organic-feelings",
   "metadata": {},
   "outputs": [],
   "source": [
    "x = odeint(f, x0, t)"
   ]
  },
  {
   "cell_type": "code",
   "execution_count": 8,
   "id": "structured-detail",
   "metadata": {},
   "outputs": [
    {
     "data": {
      "text/plain": [
       "[<matplotlib.lines.Line2D at 0x1d50c42ad30>]"
      ]
     },
     "execution_count": 8,
     "metadata": {},
     "output_type": "execute_result"
    },
    {
     "data": {
      "image/png": "[encoded data removed]",
      "text/plain": [
       "<Figure size 432x288 with 1 Axes>"
      ]
     },
     "metadata": {
      "needs_background": "light"
     },
     "output_type": "display_data"
    }
   ],
   "source": [
    "plt.plot(t, x)"
   ]
  },
  {
   "cell_type": "code",
   "execution_count": 25,
   "id": "hydraulic-alfred",
   "metadata": {},
   "outputs": [],
   "source": [
    "tmax = 0.015\n",
    "t = np.arange(t0, tmax, 0.0001)\n",
    "def k(t):\n",
    "    k = 0.00003\n",
    "    return k\n",
    "def p(t):\n",
    "    p = 0.62\n",
    "    return p"
   ]
  },
  {
   "cell_type": "code",
   "execution_count": 26,
   "id": "liable-fundamentals",
   "metadata": {},
   "outputs": [],
   "source": [
    "def f(x, t):\n",
    "    f = (k(t) + p(t)*x)*(N-x)\n",
    "    return f"
   ]
  },
  {
   "cell_type": "code",
   "execution_count": 29,
   "id": "suspected-sweden",
   "metadata": {},
   "outputs": [
    {
     "name": "stdout",
     "output_type": "stream",
     "text": [
      "Макс скорость при t= 0.0059\n"
     ]
    }
   ],
   "source": [
    "x = odeint(f, x0, t)\n",
    "h=0\n",
    "k=0\n",
    "for i in range(1,len(x[:,0])):\n",
    "    if (x[i][0]-x[i-1][0])>h:\n",
    "        h=x[i][0]-x[i-1][0]\n",
    "        k=i\n",
    "print('Макс скорость при t=', t[k])    "
   ]
  },
  {
   "cell_type": "code",
   "execution_count": 30,
   "id": "appreciated-polymer",
   "metadata": {},
   "outputs": [
    {
     "data": {
      "text/plain": [
       "[<matplotlib.lines.Line2D at 0x1d50e686fa0>]"
      ]
     },
     "execution_count": 30,
     "metadata": {},
     "output_type": "execute_result"
    },
    {
     "data": {
      "image/png": "[encoded data removed]",
      "text/plain": [
       "<Figure size 432x288 with 1 Axes>"
      ]
     },
     "metadata": {
      "needs_background": "light"
     },
     "output_type": "display_data"
    }
   ],
   "source": [
    "plt.plot(t, x)"
   ]
  },
  {
   "cell_type": "code",
   "execution_count": 21,
   "id": "voluntary-roommate",
   "metadata": {},
   "outputs": [],
   "source": [
    "tmax = 0.015\n",
    "t = np.arange(t0, tmax, 0.0001)\n",
    "def k(t):\n",
    "    k = 0.88*math.cos(t)\n",
    "    return k\n",
    "def p(t):\n",
    "    p = 0.77*math.cos(2*t)\n",
    "    return p"
   ]
  },
  {
   "cell_type": "code",
   "execution_count": 22,
   "id": "joined-principle",
   "metadata": {},
   "outputs": [],
   "source": [
    "def f(x, t):\n",
    "    f = (k(t) + p(t)*x)*(N-x)\n",
    "    return f"
   ]
  },
  {
   "cell_type": "code",
   "execution_count": 23,
   "id": "curious-south",
   "metadata": {},
   "outputs": [],
   "source": [
    "x = odeint(f, x0, t)"
   ]
  },
  {
   "cell_type": "code",
   "execution_count": 24,
   "id": "tamil-worse",
   "metadata": {},
   "outputs": [
    {
     "data": {
      "text/plain": [
       "[<matplotlib.lines.Line2D at 0x1d50e627be0>]"
      ]
     },
     "execution_count": 24,
     "metadata": {},
     "output_type": "execute_result"
    },
    {
     "data": {
      "image/png": "[encoded data removed]",
      "text/plain": [
       "<Figure size 432x288 with 1 Axes>"
      ]
     },
     "metadata": {
      "needs_background": "light"
     },
     "output_type": "display_data"
    }
   ],
   "source": [
    "plt.plot(t, x)"
   ]
  },
  {
   "cell_type": "code",
   "execution_count": null,
   "id": "swiss-silicon",
   "metadata": {},
   "outputs": [],
   "source": []
  }
 ],
 "metadata": {
  "kernelspec": {
   "display_name": "Python 3",
   "language": "python",
   "name": "python3"
  },
  "language_info": {
   "codemirror_mode": {
    "name": "ipython",
    "version": 3
   },
   "file_extension": ".py",
   "mimetype": "text/x-python",
   "name": "python",
   "nbconvert_exporter": "python",
   "pygments_lexer": "ipython3",
   "version": "3.9.1"
  }
 },
 "nbformat": 4,
 "nbformat_minor": 5
}
